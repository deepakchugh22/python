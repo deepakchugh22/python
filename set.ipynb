{
 "cells": [
  {
   "cell_type": "markdown",
   "id": "0d467aea",
   "metadata": {},
   "source": [
    "# set methods:\n",
    "\n",
    "add()--\tAdds an element to the set\n",
    "\n",
    "clear()--\tRemoves all the elements from the set\n",
    "\n",
    "copy()--\tReturns a copy of the set\n",
    "\n",
    "difference()--\tReturns a set containing the difference between two or more sets\n",
    "\n",
    "difference_update()--\tRemoves the items in this set that are also included in another, specified set\n",
    "\n",
    "discard()--\tRemove the specified item\n",
    "\n",
    "intersection()--\tReturns a set, that is the intersection of two or more sets\n",
    "\n",
    "intersection_update()--\tRemoves the items in this set that are not present in other, specified set(s)\n",
    "\n",
    "isdisjoint()--\tReturns whether two sets have a intersection or not\n",
    "\n",
    "issubset()--\tReturns whether another set contains this set or not\n",
    "\n",
    "issuperset()--\tReturns whether this set contains another set or not\n",
    "\n",
    "pop()--\tRemoves an element from the set\n",
    "\n",
    "remove()--\tRemoves the specified element\n",
    "\n",
    "symmetric_difference()--\tReturns a set with the symmetric differences of two sets\n",
    "\n",
    "symmetric_difference_update()--\tinserts the symmetric differences from this set and another\n",
    "\n",
    "union()--\tReturn a set containing the union of sets\n",
    "\n",
    "update()--\tUpdate the set with another set, or any other iterable"
   ]
  }
 ],
 "metadata": {
  "kernelspec": {
   "display_name": "Python 3 (ipykernel)",
   "language": "python",
   "name": "python3"
  },
  "language_info": {
   "codemirror_mode": {
    "name": "ipython",
    "version": 3
   },
   "file_extension": ".py",
   "mimetype": "text/x-python",
   "name": "python",
   "nbconvert_exporter": "python",
   "pygments_lexer": "ipython3",
   "version": "3.9.13"
  }
 },
 "nbformat": 4,
 "nbformat_minor": 5
}
