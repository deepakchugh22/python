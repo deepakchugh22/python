{
 "cells": [
  {
   "cell_type": "markdown",
   "id": "96177d68",
   "metadata": {},
   "source": [
    "#  lists are created using [ ] brackets.\n"
   ]
  },
  {
   "cell_type": "markdown",
   "id": "5af8cf65",
   "metadata": {},
   "source": [
    "# lists are used to store multiple values in a single variable.\n"
   ]
  },
  {
   "cell_type": "markdown",
   "id": "42116c2e",
   "metadata": {},
   "source": [
    "#  List items are ordered, changeable, and allow duplicate values."
   ]
  },
  {
   "cell_type": "markdown",
   "id": "40a5726a",
   "metadata": {},
   "source": [
    "# List items are indexed, the first item has index [0], the second item has index [1] etc."
   ]
  },
  {
   "cell_type": "markdown",
   "id": "dedbd492",
   "metadata": {},
   "source": [
    "# lists are ordered, it means that the items have a defined order, and that order will not change.\n",
    "\n",
    "If you add new items to a list, the new items will be placed at the end of the list"
   ]
  },
  {
   "cell_type": "code",
   "execution_count": 1,
   "id": "07a48f0f",
   "metadata": {},
   "outputs": [
    {
     "name": "stdout",
     "output_type": "stream",
     "text": [
      "['apple', 'banana', 'cherry', 'apple', 'cherry']\n"
     ]
    }
   ],
   "source": [
    "## Allow duplicates(cherry)\n",
    "\n",
    "thislist = [\"apple\", \"banana\", \"cherry\", \"apple\", \"cherry\"]\n",
    "print(thislist)"
   ]
  },
  {
   "cell_type": "markdown",
   "id": "61129185",
   "metadata": {},
   "source": [
    "# List Items - Data Types\n",
    "String, int and boolean :"
   ]
  },
  {
   "cell_type": "code",
   "execution_count": 4,
   "id": "9006e5ff",
   "metadata": {},
   "outputs": [
    {
     "name": "stdout",
     "output_type": "stream",
     "text": [
      "['pomogranate', 'banana', 'cherry']\n",
      "[True, False, True]\n",
      "[0, 4, 54, 78, 96]\n",
      "<class 'list'>\n",
      "<class 'list'>\n",
      "<class 'list'>\n"
     ]
    }
   ],
   "source": [
    "list1 = [\"pomogranate\", \"banana\", \"cherry\"]\n",
    "list2 = [True,False,True]\n",
    "list3 = [0,4,54,78,96]\n",
    "print(list1)\n",
    "print(list2)\n",
    "print(list3)\n",
    "print(type(list1))\n",
    "print(type(list2))\n",
    "print(type(list3))"
   ]
  },
  {
   "cell_type": "markdown",
   "id": "5ec98589",
   "metadata": {},
   "source": [
    "#  A list can contain different data types:\n",
    "\n"
   ]
  },
  {
   "cell_type": "code",
   "execution_count": 5,
   "id": "bd5fa2e0",
   "metadata": {},
   "outputs": [
    {
     "name": "stdout",
     "output_type": "stream",
     "text": [
      "['abc', 34, True, 40, 'male']\n"
     ]
    }
   ],
   "source": [
    "list1 = [\"abc\", 34, True, 40, \"male\"]\n",
    "print(list1)"
   ]
  },
  {
   "cell_type": "markdown",
   "id": "ab23cdad",
   "metadata": {},
   "source": [
    "# The list() Constructor\n",
    "It is also possible to use the list() constructor when creating a new list. "
   ]
  },
  {
   "cell_type": "code",
   "execution_count": 6,
   "id": "72bc2f42",
   "metadata": {},
   "outputs": [
    {
     "name": "stdout",
     "output_type": "stream",
     "text": [
      "['apple', 'banana', 'cherry']\n"
     ]
    }
   ],
   "source": [
    "thislist = list((\"apple\", \"banana\", \"cherry\")) # note the double round-brackets\n",
    "print(thislist)\n"
   ]
  },
  {
   "cell_type": "markdown",
   "id": "74e8feab",
   "metadata": {},
   "source": [
    "#  Indexing :List items are indexed and you can access them by referring to the index number.\n",
    "\n",
    "The first item has index 0.\n",
    "\n",
    "index:element-- 0:apple,1:banana,2:cherry"
   ]
  },
  {
   "cell_type": "code",
   "execution_count": 9,
   "id": "33ab9a86",
   "metadata": {},
   "outputs": [
    {
     "name": "stdout",
     "output_type": "stream",
     "text": [
      "banana\n",
      "apple\n",
      "cherry\n"
     ]
    }
   ],
   "source": [
    "##Print the second item of the list:\n",
    "\n",
    "list1 = [\"apple\", \"banana\", \"cherry\"]\n",
    "print(list1[1])\n",
    "print(list1[0])\n",
    "print(list1[2])"
   ]
  },
  {
   "cell_type": "markdown",
   "id": "be390c24",
   "metadata": {},
   "source": [
    "#  Negative Indexing\n",
    "\n",
    "Negative indexing means start from the end\n",
    "\n",
    "-1 refers to the last item, -2 refers to the second last item:"
   ]
  },
  {
   "cell_type": "code",
   "execution_count": 10,
   "id": "25768a12",
   "metadata": {},
   "outputs": [
    {
     "name": "stdout",
     "output_type": "stream",
     "text": [
      "cherry\n",
      "apple\n",
      "banana\n"
     ]
    }
   ],
   "source": [
    "list1 = [\"apple\", \"banana\", \"cherry\"]\n",
    "print(list1[-1])\n",
    "print(list1[-3])\n",
    "print(list1[-2])"
   ]
  },
  {
   "cell_type": "markdown",
   "id": "42047adb",
   "metadata": {},
   "source": [
    "# Range of Indexes / Slicing :\n",
    "\n",
    "You can specify a range of indexes by specifying where to start and where to end the range.\n",
    "\n",
    "When specifying a range, the return value will be a new list with the specified items.\n",
    "\n",
    "Ex:[2:5]-- it starts from 2 and goes upto end-1=[5-1]=4, cherry to kiwi\n",
    "\n",
    "  : [2: ]-- it starts from 2 and goes upto the end of list.\n",
    "  : [ : ]-- it print index (0) to (end)\n",
    " \n",
    " Negetive Indexng:[-5:-1]"
   ]
  },
  {
   "cell_type": "code",
   "execution_count": 11,
   "id": "ed26138e",
   "metadata": {},
   "outputs": [
    {
     "name": "stdout",
     "output_type": "stream",
     "text": [
      "['cherry', 'orange', 'kiwi']\n"
     ]
    }
   ],
   "source": [
    "list2 = [\"apple\", \"banana\", \"cherry\", \"orange\", \"kiwi\", \"melon\", \"mango\"]\n",
    "print(list2[2:5])"
   ]
  },
  {
   "cell_type": "code",
   "execution_count": 12,
   "id": "54845ab4",
   "metadata": {},
   "outputs": [
    {
     "name": "stdout",
     "output_type": "stream",
     "text": [
      "['cherry', 'orange', 'kiwi', 'melon', 'mango']\n"
     ]
    }
   ],
   "source": [
    "list2 = [\"apple\", \"banana\", \"cherry\", \"orange\", \"kiwi\", \"melon\", \"mango\"]\n",
    "print(list2[2:])"
   ]
  },
  {
   "cell_type": "code",
   "execution_count": 13,
   "id": "4ba74e9a",
   "metadata": {},
   "outputs": [
    {
     "name": "stdout",
     "output_type": "stream",
     "text": [
      "['apple', 'banana', 'cherry', 'orange', 'kiwi', 'melon', 'mango']\n"
     ]
    }
   ],
   "source": [
    "list2 = [\"apple\", \"banana\", \"cherry\", \"orange\", \"kiwi\", \"melon\", \"mango\"]\n",
    "print(list2[:7])"
   ]
  },
  {
   "cell_type": "code",
   "execution_count": 14,
   "id": "82e5d59c",
   "metadata": {},
   "outputs": [
    {
     "name": "stdout",
     "output_type": "stream",
     "text": [
      "['apple', 'banana', 'cherry', 'orange', 'kiwi', 'melon', 'mango']\n"
     ]
    }
   ],
   "source": [
    "list2 = [\"apple\", \"banana\", \"cherry\", \"orange\", \"kiwi\", \"melon\", \"mango\"]\n",
    "print(list2[:])"
   ]
  },
  {
   "cell_type": "code",
   "execution_count": 17,
   "id": "ee067f0e",
   "metadata": {},
   "outputs": [
    {
     "name": "stdout",
     "output_type": "stream",
     "text": [
      "['cherry', 'orange', 'kiwi', 'melon']\n"
     ]
    }
   ],
   "source": [
    "list2 = [\"apple\", \"banana\", \"cherry\", \"orange\", \"kiwi\", \"melon\", \"mango\"]\n",
    "print(list2[-5:-1])"
   ]
  },
  {
   "cell_type": "markdown",
   "id": "dc0732d6",
   "metadata": {},
   "source": [
    "# use of in : to check specified in list or not.\n",
    "   \n",
    "   if apple in list1:\n",
    "   print(\"yes,'apple, is there\")"
   ]
  },
  {
   "cell_type": "code",
   "execution_count": 20,
   "id": "dee98f8e",
   "metadata": {},
   "outputs": [
    {
     "name": "stdout",
     "output_type": "stream",
     "text": [
      "yes,'apple, is there\n"
     ]
    }
   ],
   "source": [
    "list2 = [\"apple\", \"banana\", \"cherry\", \"orange\", \"kiwi\", \"melon\", \"mango\"]\n",
    "if \"apple\" in list1:      \n",
    "    print(\"yes,'apple, is there\")"
   ]
  },
  {
   "cell_type": "markdown",
   "id": "fcfd4f10",
   "metadata": {},
   "source": [
    "# Change Item Value\n",
    "To change the value of a specific item, refer to the index number:"
   ]
  },
  {
   "cell_type": "code",
   "execution_count": 21,
   "id": "d2542f45",
   "metadata": {},
   "outputs": [
    {
     "name": "stdout",
     "output_type": "stream",
     "text": [
      "['apple', 'watermelon', 'cherry', 'orange']\n"
     ]
    }
   ],
   "source": [
    "list2 = [\"apple\", \"banana\", \"cherry\", \"orange\"]\n",
    "list2[1] = \"watermelon\"\n",
    "print(list2)"
   ]
  },
  {
   "cell_type": "markdown",
   "id": "abdbe833",
   "metadata": {},
   "source": [
    "# Change a Range of Item Values\n",
    "\n",
    "list2[2:4]=[\"....\",\".....\"]"
   ]
  },
  {
   "cell_type": "code",
   "execution_count": 24,
   "id": "67924db5",
   "metadata": {},
   "outputs": [
    {
     "name": "stdout",
     "output_type": "stream",
     "text": [
      "['apple', 'watermelon', 'kiwi']\n"
     ]
    }
   ],
   "source": [
    "list2 = [\"apple\", \"banana\", \"cherry\", \"orange\"]\n",
    "list2[1:4] = [\"watermelon\",\"kiwi\"]\n",
    "print(list2)"
   ]
  },
  {
   "cell_type": "markdown",
   "id": "a450543c",
   "metadata": {},
   "source": [
    "# Add List Items\n",
    "\n",
    "1. .append()-- list2.append()\n",
    "2.  .insert()-- list2.insert(), it also provide indexing at which index u want to place element.\n",
    "      list2.insert(0,\"watermelon\")"
   ]
  },
  {
   "cell_type": "code",
   "execution_count": 25,
   "id": "6f8a74fc",
   "metadata": {},
   "outputs": [
    {
     "name": "stdout",
     "output_type": "stream",
     "text": [
      "['apple', 'banana', 'cherry', 'orange', 'kiwi']\n"
     ]
    }
   ],
   "source": [
    "list2 = [\"apple\", \"banana\", \"cherry\", \"orange\"]\n",
    "list2.append(\"kiwi\")\n",
    "print(list2)"
   ]
  },
  {
   "cell_type": "code",
   "execution_count": 27,
   "id": "8e0cb3b6",
   "metadata": {},
   "outputs": [
    {
     "name": "stdout",
     "output_type": "stream",
     "text": [
      "['watermelon', 'apple', 'banana', 'cherry', 'orange']\n"
     ]
    }
   ],
   "source": [
    "list2 = [\"apple\", \"banana\", \"cherry\", \"orange\"]\n",
    "list2.insert(0,\"watermelon\")\n",
    "print(list2)"
   ]
  },
  {
   "cell_type": "markdown",
   "id": "f9396ecd",
   "metadata": {},
   "source": [
    "# Extend List\n",
    "To append elements from another list to the current list, use the extend() method.\n",
    "\n",
    "Add Any Iterable:\n",
    "The extend() method does not have to append lists, you can add any iterable object (tuples, sets, dictionaries)."
   ]
  },
  {
   "cell_type": "code",
   "execution_count": 28,
   "id": "3d6885a1",
   "metadata": {},
   "outputs": [
    {
     "name": "stdout",
     "output_type": "stream",
     "text": [
      "['apple', 'banana', 'cherry', 'mango', 'pineapple', 'papaya']\n"
     ]
    }
   ],
   "source": [
    "list1 = [\"apple\", \"banana\", \"cherry\"]\n",
    "fruits = [\"mango\", \"pineapple\", \"papaya\"]\n",
    "list1.extend(fruits)\n",
    "print(list1)"
   ]
  },
  {
   "cell_type": "code",
   "execution_count": 29,
   "id": "61c19205",
   "metadata": {},
   "outputs": [
    {
     "name": "stdout",
     "output_type": "stream",
     "text": [
      "['apple', 'banana', 'cherry', 'kiwi', 'orange']\n"
     ]
    }
   ],
   "source": [
    "list1 = [\"apple\", \"banana\", \"cherry\"]\n",
    "tuple1 = (\"kiwi\", \"orange\")\n",
    "list1.extend(tuple1)\n",
    "print(list1)"
   ]
  },
  {
   "cell_type": "markdown",
   "id": "ca9d8260",
   "metadata": {},
   "source": [
    "# Python - Remove List Items\n",
    "\n",
    "The remove() method removes the specified item\n",
    "list1.remove(\"banana\")\n",
    "\n",
    "\n",
    "Remove Specified Index\n",
    "The pop() method removes the specified index.\n",
    "list1.pop(1)\n",
    "\n",
    "The del keyword also removes the specified index:\n",
    "del list1[0]\n",
    "\n",
    "Clear the List\n",
    "The clear() method empties the list.\n",
    "\n",
    "The list still remains, but it has no content.\n",
    "\n",
    "list1.clear()"
   ]
  },
  {
   "cell_type": "code",
   "execution_count": 30,
   "id": "55701836",
   "metadata": {},
   "outputs": [
    {
     "name": "stdout",
     "output_type": "stream",
     "text": [
      "['apple', 'cherry']\n"
     ]
    }
   ],
   "source": [
    "list1 = [\"apple\", \"banana\", \"cherry\"]\n",
    "list1.remove(\"banana\")\n",
    "print(list1)\n"
   ]
  },
  {
   "cell_type": "code",
   "execution_count": 31,
   "id": "3016b16e",
   "metadata": {},
   "outputs": [
    {
     "name": "stdout",
     "output_type": "stream",
     "text": [
      "['banana', 'cherry']\n"
     ]
    }
   ],
   "source": [
    "list1 = [\"apple\", \"banana\", \"cherry\"]\n",
    "list1.pop(0)\n",
    "print(list1)\n"
   ]
  },
  {
   "cell_type": "code",
   "execution_count": 33,
   "id": "a513c465",
   "metadata": {},
   "outputs": [
    {
     "name": "stdout",
     "output_type": "stream",
     "text": [
      "['apple', 'cherry']\n"
     ]
    }
   ],
   "source": [
    "list1 = [\"apple\", \"banana\", \"cherry\"]\n",
    "del list1[1]\n",
    "print(list1)"
   ]
  },
  {
   "cell_type": "code",
   "execution_count": 34,
   "id": "e67b4c8c",
   "metadata": {},
   "outputs": [
    {
     "name": "stdout",
     "output_type": "stream",
     "text": [
      "[]\n"
     ]
    }
   ],
   "source": [
    "list1 = [\"apple\", \"banana\", \"cherry\"]\n",
    "list1.clear()\n",
    "print(list1)\n"
   ]
  },
  {
   "cell_type": "markdown",
   "id": "9a401948",
   "metadata": {},
   "source": [
    "# Python - Loop Lists\n",
    "\n",
    "Loop Through a List\n",
    " looping the list items by using a for loop:\n",
    " "
   ]
  },
  {
   "cell_type": "code",
   "execution_count": 35,
   "id": "c4356a3d",
   "metadata": {},
   "outputs": [
    {
     "name": "stdout",
     "output_type": "stream",
     "text": [
      "apple\n",
      "banana\n",
      "cherry\n"
     ]
    }
   ],
   "source": [
    "list2 = [\"apple\", \"banana\", \"cherry\"]\n",
    "for x in list2:\n",
    "  print(x)\n"
   ]
  },
  {
   "cell_type": "markdown",
   "id": "77203914",
   "metadata": {},
   "source": [
    "# Loop Through the Index Numbers\n",
    "\n",
    "looping the list items by referring to their index number.\n",
    "\n",
    "Use the range() and len() functions to create a suitable iterable."
   ]
  },
  {
   "cell_type": "code",
   "execution_count": 37,
   "id": "025524a9",
   "metadata": {},
   "outputs": [
    {
     "name": "stdout",
     "output_type": "stream",
     "text": [
      "apple\n",
      "banana\n",
      "cherry\n"
     ]
    }
   ],
   "source": [
    "list2 = [\"apple\", \"banana\", \"cherry\"]\n",
    "for i in range(len(list2)):\n",
    "  print(list2[i])"
   ]
  },
  {
   "cell_type": "markdown",
   "id": "0e3ab4c5",
   "metadata": {},
   "source": [
    "# Using a While Loop\n",
    "\n",
    "looping the list items by using a while loop.\n",
    "\n",
    "Use the len() function to determine the length of the list, then start at 0 and loop your way through the list items by referring to their indexes.\n",
    "\n",
    "Remember to increase the index by 1 after each iteration.\n",
    "\n"
   ]
  },
  {
   "cell_type": "code",
   "execution_count": 39,
   "id": "13d75ad1",
   "metadata": {},
   "outputs": [
    {
     "name": "stdout",
     "output_type": "stream",
     "text": [
      "apple\n",
      "banana\n",
      "cherry\n"
     ]
    }
   ],
   "source": [
    "thislist = [\"apple\", \"banana\", \"cherry\"]\n",
    "i = 0\n",
    "while i < len(thislist):\n",
    "  print(thislist[i])\n",
    "  i = i + 1"
   ]
  },
  {
   "cell_type": "markdown",
   "id": "b1db6dfd",
   "metadata": {},
   "source": [
    "# Looping Using List Comprehension\n",
    "\n",
    "List Comprehension offers the shortest syntax for looping through lists:"
   ]
  },
  {
   "cell_type": "code",
   "execution_count": 40,
   "id": "ce5ea358",
   "metadata": {},
   "outputs": [
    {
     "name": "stdout",
     "output_type": "stream",
     "text": [
      "apple\n",
      "banana\n",
      "cherry\n"
     ]
    },
    {
     "data": {
      "text/plain": [
       "[None, None, None]"
      ]
     },
     "execution_count": 40,
     "metadata": {},
     "output_type": "execute_result"
    }
   ],
   "source": [
    "thislist = [\"apple\", \"banana\", \"cherry\"]\n",
    "[print(x) for x in thislist]"
   ]
  },
  {
   "cell_type": "code",
   "execution_count": 41,
   "id": "ce684aad",
   "metadata": {},
   "outputs": [
    {
     "name": "stdout",
     "output_type": "stream",
     "text": [
      "['apple', 'banana', 'mango']\n"
     ]
    }
   ],
   "source": [
    "fruits = [\"apple\", \"banana\", \"cherry\", \"kiwi\", \"mango\"]\n",
    "\n",
    "newlist = [x for x in fruits if \"a\" in x]\n",
    "\n",
    "print(newlist)"
   ]
  },
  {
   "cell_type": "code",
   "execution_count": 43,
   "id": "c798613a",
   "metadata": {},
   "outputs": [],
   "source": [
    "newlist = [x for x in fruits if x != \"apple\"]"
   ]
  },
  {
   "cell_type": "code",
   "execution_count": 44,
   "id": "c9e67f51",
   "metadata": {},
   "outputs": [],
   "source": [
    "newlist = [x for x in fruits]"
   ]
  },
  {
   "cell_type": "code",
   "execution_count": 45,
   "id": "fbd72093",
   "metadata": {},
   "outputs": [],
   "source": [
    "newlist = [x for x in range(10)]"
   ]
  },
  {
   "cell_type": "code",
   "execution_count": 46,
   "id": "e512f415",
   "metadata": {},
   "outputs": [],
   "source": [
    "newlist = [x for x in range(10) if x < 5]"
   ]
  },
  {
   "cell_type": "code",
   "execution_count": 47,
   "id": "71cb1129",
   "metadata": {},
   "outputs": [],
   "source": [
    "newlist = [x.upper() for x in fruits]"
   ]
  },
  {
   "cell_type": "code",
   "execution_count": 48,
   "id": "686f4102",
   "metadata": {},
   "outputs": [],
   "source": [
    "newlist = ['hello' for x in fruits]"
   ]
  },
  {
   "cell_type": "code",
   "execution_count": 49,
   "id": "e0815dd3",
   "metadata": {},
   "outputs": [],
   "source": [
    "newlist = [x if x != \"banana\" else \"orange\" for x in fruits]\n"
   ]
  },
  {
   "cell_type": "markdown",
   "id": "715ff91a",
   "metadata": {},
   "source": [
    "# Python - Sort Lists\n",
    "\n",
    "a sort() method that will sort the list alphanumerically, ascending, by default"
   ]
  },
  {
   "cell_type": "code",
   "execution_count": 50,
   "id": "83805f01",
   "metadata": {},
   "outputs": [
    {
     "name": "stdout",
     "output_type": "stream",
     "text": [
      "['banana', 'kiwi', 'mango', 'orange', 'pineapple']\n"
     ]
    }
   ],
   "source": [
    "## Sort Alphabetically\n",
    "\n",
    "list3 = [\"orange\", \"mango\", \"kiwi\", \"pineapple\", \"banana\"]\n",
    "list3.sort()\n",
    "print(list3)"
   ]
  },
  {
   "cell_type": "code",
   "execution_count": 51,
   "id": "969bd5b4",
   "metadata": {},
   "outputs": [
    {
     "name": "stdout",
     "output_type": "stream",
     "text": [
      "[23, 50, 65, 82, 100]\n"
     ]
    }
   ],
   "source": [
    "## Sort Ascending\n",
    "\n",
    "list3 = [100, 50, 65, 82, 23]\n",
    "list3.sort()\n",
    "print(list3)"
   ]
  },
  {
   "cell_type": "code",
   "execution_count": 52,
   "id": "a9a49a9c",
   "metadata": {},
   "outputs": [
    {
     "name": "stdout",
     "output_type": "stream",
     "text": [
      "[100, 82, 65, 50, 23]\n"
     ]
    }
   ],
   "source": [
    "## Sort Descending order by .sort(reverse=True)\n",
    "\n",
    "list3 = [23,82,65,50,100]\n",
    "list3.sort(key=str.lower)\n",
    "print(list3)"
   ]
  },
  {
   "cell_type": "code",
   "execution_count": 53,
   "id": "72648df1",
   "metadata": {
    "scrolled": true
   },
   "outputs": [
    {
     "name": "stdout",
     "output_type": "stream",
     "text": [
      "['Kiwi', 'Mango', 'Pineapple', 'banana', 'orange']\n"
     ]
    }
   ],
   "source": [
    "## Sort by Case Sensitive \n",
    "\n",
    "list3 = [\"orange\", \"Mango\", \"Kiwi\", \"Pineapple\", \"banana\"]\n",
    "list3.sort()\n",
    "print(list3)"
   ]
  },
  {
   "cell_type": "code",
   "execution_count": 54,
   "id": "0a0b024d",
   "metadata": {},
   "outputs": [
    {
     "name": "stdout",
     "output_type": "stream",
     "text": [
      "['banana', 'Kiwi', 'Mango', 'orange', 'Pineapple']\n"
     ]
    }
   ],
   "source": [
    "## Case Insensitive\n",
    "\n",
    "list3 = [\"orange\", \"Mango\", \"Kiwi\", \"Pineapple\", \"banana\"]\n",
    "list3.sort(key=str.lower)\n",
    "print(list3)"
   ]
  },
  {
   "cell_type": "markdown",
   "id": "37deee92",
   "metadata": {},
   "source": [
    "# Reverse Order\n",
    "\n",
    " reverse() method reverses the current sorting order of the elements."
   ]
  },
  {
   "cell_type": "code",
   "execution_count": 55,
   "id": "fbfcd00d",
   "metadata": {},
   "outputs": [
    {
     "name": "stdout",
     "output_type": "stream",
     "text": [
      "['banana', 'Pineapple', 'Kiwi', 'Mango', 'orange']\n"
     ]
    }
   ],
   "source": [
    "list3 = [\"orange\", \"Mango\", \"Kiwi\", \"Pineapple\", \"banana\"]\n",
    "list3.reverse()\n",
    "print(list3)"
   ]
  },
  {
   "cell_type": "markdown",
   "id": "5263e19d",
   "metadata": {},
   "source": [
    "# Python - Copy Lists\n",
    "\n",
    "There are ways to make a copy, one way is to use the built-in List method copy()."
   ]
  },
  {
   "cell_type": "code",
   "execution_count": 56,
   "id": "6f9f33d3",
   "metadata": {},
   "outputs": [
    {
     "name": "stdout",
     "output_type": "stream",
     "text": [
      "['apple', 'banana', 'cherry']\n"
     ]
    }
   ],
   "source": [
    "list4 = [\"apple\", \"banana\", \"cherry\"]\n",
    "mylist = list4.copy()\n",
    "print(mylist)"
   ]
  },
  {
   "cell_type": "code",
   "execution_count": 57,
   "id": "49c81805",
   "metadata": {},
   "outputs": [
    {
     "name": "stdout",
     "output_type": "stream",
     "text": [
      "['apple', 'banana', 'cherry']\n"
     ]
    }
   ],
   "source": [
    "list4 = [\"apple\", \"banana\", \"cherry\"]\n",
    "mylist = list(list4)\n",
    "print(mylist)"
   ]
  },
  {
   "cell_type": "markdown",
   "id": "2e2d6374",
   "metadata": {},
   "source": [
    "# Python - Join Lists\n",
    "\n",
    "\n",
    "There are several ways to join, or concatenate, two or more lists in Python.\n",
    "\n",
    "One of the easiest ways are by using the + operator.\n",
    "\n",
    "extend() method, which purpose is to add elements from one list to another list.\n",
    "\n"
   ]
  },
  {
   "cell_type": "code",
   "execution_count": 58,
   "id": "9d62bd41",
   "metadata": {},
   "outputs": [
    {
     "name": "stdout",
     "output_type": "stream",
     "text": [
      "['a', 'b', 'c', 1, 2, 3]\n"
     ]
    }
   ],
   "source": [
    "## by Operand\n",
    "\n",
    "list1 = [\"a\", \"b\", \"c\"]\n",
    "list2 = [1, 2, 3]\n",
    "list3 = list1 + list2\n",
    "print(list3)"
   ]
  },
  {
   "cell_type": "code",
   "execution_count": 60,
   "id": "ce7eb9bf",
   "metadata": {},
   "outputs": [
    {
     "name": "stdout",
     "output_type": "stream",
     "text": [
      "['a', 'b', 'c', 1, 2, 3]\n"
     ]
    }
   ],
   "source": [
    "## by .extend()\n",
    "\n",
    "list1 = [\"a\", \"b\" , \"c\"]\n",
    "list2 = [1, 2, 3]\n",
    "list1.extend(list2)\n",
    "print(list1)\n"
   ]
  },
  {
   "cell_type": "code",
   "execution_count": 61,
   "id": "c25c5fcb",
   "metadata": {},
   "outputs": [
    {
     "name": "stdout",
     "output_type": "stream",
     "text": [
      "['a', 'b', 'c', 1, 2, 3]\n"
     ]
    }
   ],
   "source": [
    "## by for loop & .append()\n",
    "\n",
    "list1 = [\"a\", \"b\" , \"c\"]\n",
    "list2 = [1, 2, 3]\n",
    "for x in list2:\n",
    "  list1.append(x)\n",
    "print(list1)"
   ]
  },
  {
   "cell_type": "markdown",
   "id": "aee7b0d7",
   "metadata": {},
   "source": [
    "#  Method\tDescription\n",
    "\n",
    "append()\tAdds an element at the end of the list.= list1.append()\n",
    "\n",
    "clear()\t    Removes all the elements from the list.=list1.clear()\n",
    "\n",
    "copy()\t    Returns a copy of the list.==list1.copy() \n",
    "\n",
    "count()\t    Returns the number of elements with the specified value. = list1.count(\"\")\n",
    "\n",
    "extend()\tAdd the elements of a list (or any iterable), to the end of the current list.=list1.extend(fruits),list1.extend(tuple1)\n",
    "\n",
    "index()\t    Returns the index of the first element with the specified value.=y=animals.index(\"dog\")\n",
    "\n",
    "insert()\tAdds an element at the specified position.=list2.insert(0,\"watermelon\")\n",
    "\n",
    "pop()\t    Removes the element at the specified position.=list1.pop(0)\n",
    "\n",
    "remove()\tRemoves the item with the specified value.=list1.remove(\"banana\")\n",
    "\n",
    "reverse()\tReverses the order of the list.=list3.reverse()\n",
    "\n",
    "sort()\t    Sorts the list.=list3.sort(),list3.sort(key=str.lower),list3.sort(key=str.lower)"
   ]
  },
  {
   "cell_type": "code",
   "execution_count": 4,
   "id": "f271c8b6",
   "metadata": {},
   "outputs": [
    {
     "name": "stdout",
     "output_type": "stream",
     "text": [
      "1\n"
     ]
    }
   ],
   "source": [
    "### count(): this is used to check the occurence of element.\n",
    "\n",
    "fruits = ['apple', 'banana', 'cherry']\n",
    "\n",
    "x = fruits.count(\"banana\")\n",
    "print(x)"
   ]
  },
  {
   "cell_type": "code",
   "execution_count": 7,
   "id": "73e814b6",
   "metadata": {},
   "outputs": [
    {
     "name": "stdout",
     "output_type": "stream",
     "text": [
      "1\n"
     ]
    }
   ],
   "source": [
    "### index(): to check the index of element.\n",
    "\n",
    "animals = ['cat', 'dog', 'rabbit', 'horse']\n",
    "y=animals.index(\"dog\")\n",
    "print(y)"
   ]
  },
  {
   "cell_type": "code",
   "execution_count": null,
   "id": "2bf342de",
   "metadata": {},
   "outputs": [],
   "source": [
    "## check length by len() and search other function "
   ]
  }
 ],
 "metadata": {
  "kernelspec": {
   "display_name": "Python 3 (ipykernel)",
   "language": "python",
   "name": "python3"
  },
  "language_info": {
   "codemirror_mode": {
    "name": "ipython",
    "version": 3
   },
   "file_extension": ".py",
   "mimetype": "text/x-python",
   "name": "python",
   "nbconvert_exporter": "python",
   "pygments_lexer": "ipython3",
   "version": "3.9.13"
  }
 },
 "nbformat": 4,
 "nbformat_minor": 5
}
