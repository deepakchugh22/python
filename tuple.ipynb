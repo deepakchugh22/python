{
 "cells": [
  {
   "cell_type": "markdown",
   "id": "ea49b150",
   "metadata": {},
   "source": [
    "# Tuple\n",
    "\n",
    "    Tuples are used to store multiple items in a single variable.\n",
    "    \n",
    "    A tuple is a collection which is ordered and unchangeable.\n",
    "    \n",
    "    Tuples are written with round brackets().\n",
    "     \n",
    "    Tuple items are ordered, unchangeable, and allow duplicate values.\n",
    "\n",
    "    Tuple items are indexed, the first item has index [0], the second item has index [1] etc.\n",
    "     \n",
    "    ordered: order of tuple never changed."
   ]
  },
  {
   "cell_type": "code",
   "execution_count": 1,
   "id": "8a7f8b12",
   "metadata": {},
   "outputs": [
    {
     "name": "stdout",
     "output_type": "stream",
     "text": [
      "('apple', 'banana', 'cherry')\n"
     ]
    }
   ],
   "source": [
    "## create a tuple\n",
    "\n",
    "tuple1 = (\"apple\", \"banana\", \"cherry\")\n",
    "print(tuple1)"
   ]
  },
  {
   "cell_type": "markdown",
   "id": "08bf7e15",
   "metadata": {},
   "source": [
    "#  len() : to check length "
   ]
  },
  {
   "cell_type": "code",
   "execution_count": 3,
   "id": "576da44e",
   "metadata": {},
   "outputs": [
    {
     "name": "stdout",
     "output_type": "stream",
     "text": [
      "3\n"
     ]
    }
   ],
   "source": [
    "tuple1 = (\"apple\", \"banana\", \"cherry\")\n",
    "print(len(tuple1))"
   ]
  },
  {
   "cell_type": "markdown",
   "id": "2338629c",
   "metadata": {},
   "source": [
    "#  create tuple with one item"
   ]
  },
  {
   "cell_type": "code",
   "execution_count": 6,
   "id": "9d70809a",
   "metadata": {},
   "outputs": [
    {
     "name": "stdout",
     "output_type": "stream",
     "text": [
      "('apple',)\n"
     ]
    }
   ],
   "source": [
    "tuple1 = (\"apple\",)\n",
    "print(tuple1)"
   ]
  },
  {
   "cell_type": "markdown",
   "id": "90b3b65a",
   "metadata": {},
   "source": [
    "# Tuple Items - Data Types\n",
    "   \n",
    "    Tuple items can be of any data type:\n",
    "\n"
   ]
  },
  {
   "cell_type": "code",
   "execution_count": 8,
   "id": "019d9c27",
   "metadata": {},
   "outputs": [
    {
     "name": "stdout",
     "output_type": "stream",
     "text": [
      "('apple', 'banana', 'cherry')\n",
      "(1, 5, 7, 9, 3)\n",
      "(True, False, False)\n",
      "('abc', 34, True, 40, 'male')\n"
     ]
    }
   ],
   "source": [
    "tuple1 = (\"apple\", \"banana\", \"cherry\")\n",
    "tuple2 = (1, 5, 7, 9, 3)\n",
    "tuple3 = (True, False, False)\n",
    "tuple4 = (\"abc\", 34, True, 40, \"male\")\n",
    "print(tuple1)\n",
    "print(tuple2)\n",
    "print(tuple3)\n",
    "print(tuple4)"
   ]
  },
  {
   "cell_type": "code",
   "execution_count": 9,
   "id": "f4648ddc",
   "metadata": {},
   "outputs": [
    {
     "name": "stdout",
     "output_type": "stream",
     "text": [
      "<class 'tuple'>\n",
      "<class 'tuple'>\n",
      "<class 'tuple'>\n",
      "<class 'tuple'>\n"
     ]
    }
   ],
   "source": [
    "tuple1 = (\"apple\", \"banana\", \"cherry\")\n",
    "tuple2 = (1, 5, 7, 9, 3)\n",
    "tuple3 = (True, False, False)\n",
    "tuple4 = (\"abc\", 34, True, 40, \"male\")\n",
    "print(type(tuple1))\n",
    "print(type(tuple2))\n",
    "print(type(tuple3))\n",
    "print(type(tuple4))"
   ]
  },
  {
   "cell_type": "markdown",
   "id": "037bba41",
   "metadata": {},
   "source": [
    "# tuple() Constructor "
   ]
  },
  {
   "cell_type": "code",
   "execution_count": 10,
   "id": "9cf41c76",
   "metadata": {},
   "outputs": [
    {
     "name": "stdout",
     "output_type": "stream",
     "text": [
      "('apple', 'banana', 'cherry')\n"
     ]
    }
   ],
   "source": [
    " # note the double round-brackets\n",
    "    \n",
    "tuple1 = tuple((\"apple\", \"banana\", \"cherry\"))\n",
    "print(tuple1)"
   ]
  },
  {
   "cell_type": "markdown",
   "id": "51a7c5ce",
   "metadata": {},
   "source": [
    "# Access Tuple Items\n",
    "\n",
    "   You can access tuple items by referring to the index number, inside square brackets: "
   ]
  },
  {
   "cell_type": "code",
   "execution_count": 11,
   "id": "559c3fb4",
   "metadata": {},
   "outputs": [
    {
     "name": "stdout",
     "output_type": "stream",
     "text": [
      "apple\n"
     ]
    }
   ],
   "source": [
    "tuple1 = (\"apple\", \"banana\", \"cherry\")\n",
    "print(tuple1[0])"
   ]
  },
  {
   "cell_type": "code",
   "execution_count": 18,
   "id": "b05d7986",
   "metadata": {},
   "outputs": [
    {
     "name": "stdout",
     "output_type": "stream",
     "text": [
      "('apple', 'banana')\n"
     ]
    }
   ],
   "source": [
    "tuple1 = (\"apple\", \"banana\", \"cherry\")\n",
    "print(tuple1[-3:-1])"
   ]
  },
  {
   "cell_type": "code",
   "execution_count": 16,
   "id": "44e9efd2",
   "metadata": {},
   "outputs": [
    {
     "name": "stdout",
     "output_type": "stream",
     "text": [
      "cherry\n"
     ]
    }
   ],
   "source": [
    "tuple1 = (\"apple\", \"banana\", \"cherry\")\n",
    "print(tuple1[-1])"
   ]
  },
  {
   "cell_type": "markdown",
   "id": "54f2d151",
   "metadata": {},
   "source": [
    "# Check if Item Exists:\n",
    "    \n",
    "    use the in keyword"
   ]
  },
  {
   "cell_type": "code",
   "execution_count": 20,
   "id": "bd396c90",
   "metadata": {},
   "outputs": [
    {
     "name": "stdout",
     "output_type": "stream",
     "text": [
      "Yes, 'apple' is in the fruits tuple\n"
     ]
    }
   ],
   "source": [
    "thistuple = (\"apple\", \"banana\", \"cherry\")\n",
    "if \"apple\" in thistuple:\n",
    "    print(\"Yes, 'apple' is in the fruits tuple\")"
   ]
  },
  {
   "cell_type": "markdown",
   "id": "506f3020",
   "metadata": {},
   "source": [
    "# Change Tuple Values\n",
    "   \n",
    "   You can convert the tuple into a list, change the list, and convert the list back into a tuple.\n",
    "   "
   ]
  },
  {
   "cell_type": "code",
   "execution_count": 21,
   "id": "7bd6c1d6",
   "metadata": {},
   "outputs": [
    {
     "name": "stdout",
     "output_type": "stream",
     "text": [
      "('apple', 'kiwi', 'cherry')\n"
     ]
    }
   ],
   "source": [
    "x = (\"apple\", \"banana\", \"cherry\")\n",
    "y = list(x)\n",
    "y[1] = \"kiwi\"\n",
    "x = tuple(y)\n",
    "print(x)\n"
   ]
  },
  {
   "cell_type": "code",
   "execution_count": 23,
   "id": "a92dc18d",
   "metadata": {},
   "outputs": [
    {
     "name": "stdout",
     "output_type": "stream",
     "text": [
      "('apple', 'banana', 'cherry', 'orange')\n"
     ]
    }
   ],
   "source": [
    "## append() to add items\n",
    "\n",
    "thistuple = (\"apple\", \"banana\", \"cherry\")\n",
    "y = list(thistuple)\n",
    "y.append(\"orange\")\n",
    "thistuple = tuple(y)\n",
    "print(thistuple)"
   ]
  },
  {
   "cell_type": "code",
   "execution_count": null,
   "id": "30cc5515",
   "metadata": {},
   "outputs": [],
   "source": [
    "## add 2 tuples by using operators.\n",
    "\n",
    "thistuple = (\"apple\", \"banana\", \"cherry\")\n",
    "y = (\"orange\",)\n",
    "thistuple += y\n",
    "print(thistuple)\n"
   ]
  },
  {
   "cell_type": "markdown",
   "id": "8677aae9",
   "metadata": {},
   "source": [
    "# Remove Items\n",
    "   \n",
    "   convert into list then remove"
   ]
  },
  {
   "cell_type": "code",
   "execution_count": 25,
   "id": "f6e3bffd",
   "metadata": {},
   "outputs": [
    {
     "name": "stdout",
     "output_type": "stream",
     "text": [
      "('banana', 'cherry')\n"
     ]
    }
   ],
   "source": [
    "thistuple = (\"apple\", \"banana\", \"cherry\")\n",
    "y = list(thistuple)\n",
    "y.remove(\"apple\")\n",
    "thistuple = tuple(y)\n",
    "print(thistuple)"
   ]
  },
  {
   "cell_type": "markdown",
   "id": "9df508f2",
   "metadata": {},
   "source": [
    "# Unpacking a Tuple\n",
    "   \n",
    "   packing= when create a tuple & assign value in.\n",
    "   \n",
    "   "
   ]
  },
  {
   "cell_type": "code",
   "execution_count": null,
   "id": "7d9a6100",
   "metadata": {},
   "outputs": [],
   "source": [
    "## packing\n",
    "\n",
    "tuple1 = (\"apple\", \"banana\", \"cherry\")"
   ]
  },
  {
   "cell_type": "code",
   "execution_count": 27,
   "id": "6f6e33fe",
   "metadata": {},
   "outputs": [
    {
     "name": "stdout",
     "output_type": "stream",
     "text": [
      "apple\n",
      "banana\n",
      "cherry\n"
     ]
    }
   ],
   "source": [
    "## unpacking\n",
    "\n",
    "fruits = (\"apple\", \"banana\", \"cherry\")\n",
    "(green, yellow, red) = fruits\n",
    "print(green)\n",
    "print(yellow)\n",
    "print(red)"
   ]
  },
  {
   "cell_type": "markdown",
   "id": "2ea579f8",
   "metadata": {},
   "source": [
    "#  Using Asterisk*\n",
    "    \n",
    "    when u have less no of variables than the no of variables in tuple, u use * \n",
    "    \n",
    "    *= store extra elements in it"
   ]
  },
  {
   "cell_type": "code",
   "execution_count": 28,
   "id": "704b7957",
   "metadata": {},
   "outputs": [
    {
     "name": "stdout",
     "output_type": "stream",
     "text": [
      "apple\n",
      "banana\n",
      "['cherry', 'strawberry', 'raspberry']\n"
     ]
    }
   ],
   "source": [
    "fruits = (\"apple\", \"banana\", \"cherry\", \"strawberry\", \"raspberry\")\n",
    "(green, yellow, *red) = fruits\n",
    "print(green)\n",
    "print(yellow)\n",
    "print(red)"
   ]
  },
  {
   "cell_type": "markdown",
   "id": "ddf27e1f",
   "metadata": {},
   "source": [
    "#  Looping a Tuple\n",
    "\n",
    "     1. for loop \n",
    "     2. for loop using len(),range()\n",
    "     3. while loop using len()."
   ]
  },
  {
   "cell_type": "code",
   "execution_count": 29,
   "id": "258b0263",
   "metadata": {},
   "outputs": [
    {
     "name": "stdout",
     "output_type": "stream",
     "text": [
      "apple\n",
      "banana\n",
      "cherry\n"
     ]
    }
   ],
   "source": [
    "tuple1 = (\"apple\", \"banana\", \"cherry\")\n",
    "for x in tuple1:\n",
    "  print(x)"
   ]
  },
  {
   "cell_type": "code",
   "execution_count": 30,
   "id": "96cbbc9e",
   "metadata": {},
   "outputs": [
    {
     "name": "stdout",
     "output_type": "stream",
     "text": [
      "apple\n",
      "banana\n",
      "cherry\n"
     ]
    }
   ],
   "source": [
    "thistuple = (\"apple\", \"banana\", \"cherry\")\n",
    "for i in range(len(thistuple)):\n",
    "    print(thistuple[i])"
   ]
  },
  {
   "cell_type": "code",
   "execution_count": 31,
   "id": "f1e221f9",
   "metadata": {},
   "outputs": [
    {
     "name": "stdout",
     "output_type": "stream",
     "text": [
      "apple\n",
      "banana\n",
      "cherry\n"
     ]
    }
   ],
   "source": [
    "thistuple = (\"apple\", \"banana\", \"cherry\")\n",
    "i = 0\n",
    "while i < len(thistuple):\n",
    "  print(thistuple[i])\n",
    "  i = i + 1"
   ]
  },
  {
   "cell_type": "markdown",
   "id": "8bf1b542",
   "metadata": {},
   "source": [
    "#  Join Two Tuples"
   ]
  },
  {
   "cell_type": "code",
   "execution_count": 32,
   "id": "d7818d5c",
   "metadata": {},
   "outputs": [
    {
     "name": "stdout",
     "output_type": "stream",
     "text": [
      "('a', 'b', 'c', 1, 2, 3)\n"
     ]
    }
   ],
   "source": [
    "tuple1 = (\"a\", \"b\" , \"c\")\n",
    "tuple2 = (1, 2, 3)\n",
    "tuple3 = tuple1 + tuple2\n",
    "print(tuple3)"
   ]
  },
  {
   "cell_type": "markdown",
   "id": "82107601",
   "metadata": {},
   "source": [
    "#   multiply tuples"
   ]
  },
  {
   "cell_type": "code",
   "execution_count": 33,
   "id": "34f286f1",
   "metadata": {},
   "outputs": [
    {
     "name": "stdout",
     "output_type": "stream",
     "text": [
      "('apple', 'banana', 'cherry', 'apple', 'banana', 'cherry')\n"
     ]
    }
   ],
   "source": [
    "fruits = (\"apple\", \"banana\", \"cherry\")\n",
    "mytuple = fruits * 2\n",
    "print(mytuple)"
   ]
  },
  {
   "cell_type": "markdown",
   "id": "a5140024",
   "metadata": {},
   "source": [
    "#  methods \n",
    "\n",
    "\n",
    "1.len()\n",
    "2.appen() \n",
    "3.remove()\n",
    "4.type()"
   ]
  },
  {
   "cell_type": "code",
   "execution_count": null,
   "id": "df002716",
   "metadata": {},
   "outputs": [],
   "source": []
  }
 ],
 "metadata": {
  "kernelspec": {
   "display_name": "Python 3 (ipykernel)",
   "language": "python",
   "name": "python3"
  },
  "language_info": {
   "codemirror_mode": {
    "name": "ipython",
    "version": 3
   },
   "file_extension": ".py",
   "mimetype": "text/x-python",
   "name": "python",
   "nbconvert_exporter": "python",
   "pygments_lexer": "ipython3",
   "version": "3.9.13"
  }
 },
 "nbformat": 4,
 "nbformat_minor": 5
}
