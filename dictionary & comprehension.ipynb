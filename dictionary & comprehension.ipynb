{
 "cells": [
  {
   "cell_type": "markdown",
   "id": "c975f977",
   "metadata": {},
   "source": [
    "# dictionary methods\n",
    "\n",
    "\n",
    "clear()--\tRemoves all the elements from the dictionary\n",
    "\n",
    "copy()--\tReturns a copy of the dictionary\n",
    "\n",
    "fromkeys()--\tReturns a dictionary with the specified keys and value\n",
    "\n",
    "get()--\tReturns the value of the specified key\n",
    "\n",
    "items()--\tReturns a list containing a tuple for each key value pair\n",
    "\n",
    "keys()--\tReturns a list containing the dictionary's keys\n",
    "\n",
    "pop()--\tRemoves the element with the specified key\n",
    "\n",
    "popitem()--\tRemoves the last inserted key-value pair\n",
    "\n",
    "setdefault()--\tReturns the value of the specified key. If the key does not exist: insert the key, with the specified value\n",
    "\n",
    "update()--\tUpdates the dictionary with the specified key-value pairs\n",
    "\n",
    "values()--\tReturns a list of all the values in the dictionary"
   ]
  }
 ],
 "metadata": {
  "kernelspec": {
   "display_name": "Python 3 (ipykernel)",
   "language": "python",
   "name": "python3"
  },
  "language_info": {
   "codemirror_mode": {
    "name": "ipython",
    "version": 3
   },
   "file_extension": ".py",
   "mimetype": "text/x-python",
   "name": "python",
   "nbconvert_exporter": "python",
   "pygments_lexer": "ipython3",
   "version": "3.9.13"
  }
 },
 "nbformat": 4,
 "nbformat_minor": 5
}
