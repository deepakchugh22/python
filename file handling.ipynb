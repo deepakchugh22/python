{
 "cells": [
  {
   "cell_type": "markdown",
   "id": "257e495a",
   "metadata": {},
   "source": [
    "#  file handling methods:\n",
    "\n",
    "close()--\tCloses the file\n",
    "\n",
    "detach()--\tReturns the separated raw stream from the buffer\n",
    "\n",
    "fileno()--\tReturns a number that represents the stream, from the operating system's perspective\n",
    "\n",
    "flush()--\tFlushes the internal buffer\n",
    "\n",
    "isatty()--\tReturns whether the file stream is interactive or not\n",
    "\n",
    "read()--\tReturns the file content\n",
    "\n",
    "readable()--\tReturns whether the file stream can be read or not\n",
    "\n",
    "readline()--\tReturns one line from the file\n",
    "\n",
    "readlines()--\tReturns a list of lines from the file\n",
    "\n",
    "seek()--\tChange the file position\n",
    "\n",
    "seekable()--\tReturns whether the file allows us to change the file position\n",
    "\n",
    "tell()--\tReturns the current file position\n",
    "\n",
    "truncate()--\tResizes the file to a specified size\n",
    "\n",
    "writable()--\tReturns whether the file can be written to or not\n",
    "\n",
    "write()\t--Writes the specified string to the file\n",
    "\n",
    "writelines()--\tWrites a list of strings to the file"
   ]
  }
 ],
 "metadata": {
  "kernelspec": {
   "display_name": "Python 3 (ipykernel)",
   "language": "python",
   "name": "python3"
  },
  "language_info": {
   "codemirror_mode": {
    "name": "ipython",
    "version": 3
   },
   "file_extension": ".py",
   "mimetype": "text/x-python",
   "name": "python",
   "nbconvert_exporter": "python",
   "pygments_lexer": "ipython3",
   "version": "3.9.13"
  }
 },
 "nbformat": 4,
 "nbformat_minor": 5
}
